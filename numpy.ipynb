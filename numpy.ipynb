{
  "nbformat": 4,
  "nbformat_minor": 0,
  "metadata": {
    "colab": {
      "provenance": []
    },
    "kernelspec": {
      "name": "python3",
      "display_name": "Python 3"
    },
    "language_info": {
      "name": "python"
    }
  },
  "cells": [
    {
      "cell_type": "code",
      "execution_count": 7,
      "metadata": {
        "colab": {
          "base_uri": "https://localhost:8080/"
        },
        "id": "f6a5e2n2GE8Y",
        "outputId": "16ad4bd9-5bef-4fc0-a429-e08a3387cb75"
      },
      "outputs": [
        {
          "output_type": "stream",
          "name": "stdout",
          "text": [
            "Addition Result:\n",
            " [[10 10 10]\n",
            " [10 10 10]\n",
            " [10 10 10]]\n",
            "Subtraction Result:\n",
            " [[-8 -6 -4]\n",
            " [-2  0  2]\n",
            " [ 4  6  8]]\n"
          ]
        }
      ],
      "source": [
        "# Matrix Operations with NumPy\n",
        "\n",
        "import numpy as np\n",
        "\n",
        "# Exercise 1: Matrix Addition & Subtraction\n",
        "# Define two 3x3 matrices\n",
        "A = np.array([[1, 2, 3], [4, 5, 6], [7, 8, 9]])\n",
        "B = np.array([[9, 8, 7], [6, 5, 4], [3, 2, 1]])\n",
        "\n",
        "# Perform addition\n",
        "addition_result = A + B\n",
        "print(\"Addition Result:\\n\", addition_result)\n",
        "\n",
        "# Perform subtraction\n",
        "subtraction_result = A - B\n",
        "print(\"Subtraction Result:\\n\", subtraction_result)"
      ]
    },
    {
      "cell_type": "code",
      "source": [
        "# Exercise 2: Matrix Multiplication\n",
        "# Define two compatible matrices for multiplication\n",
        "C = np.array([[1, 2, 3], [4, 5, 6]])\n",
        "D = np.array([[7, 8], [9, 10], [11, 12]])\n",
        "\n",
        "# Perform multiplication\n",
        "multiplication_result = np.dot(C, D)\n",
        "print(\"Multiplication Result:\\n\", multiplication_result)"
      ],
      "metadata": {
        "colab": {
          "base_uri": "https://localhost:8080/"
        },
        "id": "lQiaVBvCHP8h",
        "outputId": "945bc455-dc35-4efc-892f-2af4a0b15a6c"
      },
      "execution_count": 8,
      "outputs": [
        {
          "output_type": "stream",
          "name": "stdout",
          "text": [
            "Multiplication Result:\n",
            " [[ 58  64]\n",
            " [139 154]]\n"
          ]
        }
      ]
    },
    {
      "cell_type": "code",
      "source": [
        "# Exercise 3: Matrix Transpose\n",
        "# Create a 2x3 matrix\n",
        "E = np.array([[1, 2, 3], [4, 5, 6]])\n",
        "\n",
        "# Find its transpose\n",
        "transpose_result = E.T\n",
        "print(\"Transpose Result:\\n\", transpose_result)"
      ],
      "metadata": {
        "colab": {
          "base_uri": "https://localhost:8080/"
        },
        "id": "fQNeV7L1HR4i",
        "outputId": "3926d848-839a-4516-b1c7-004a7e32b141"
      },
      "execution_count": 9,
      "outputs": [
        {
          "output_type": "stream",
          "name": "stdout",
          "text": [
            "Transpose Result:\n",
            " [[1 4]\n",
            " [2 5]\n",
            " [3 6]]\n"
          ]
        }
      ]
    },
    {
      "cell_type": "code",
      "source": [
        "# Exercise 4: Calculating the Determinant\n",
        "# Create a 3x3 matrix\n",
        "F = np.array([[1, 2, 3], [4, 5, 6], [7, 8, 9]])\n",
        "\n",
        "# Calculate the determinant\n",
        "determinant_result = np.linalg.det(F)\n",
        "print(\"Determinant Result:\\n\", determinant_result)\n"
      ],
      "metadata": {
        "colab": {
          "base_uri": "https://localhost:8080/"
        },
        "id": "PDDEo5rGHTxz",
        "outputId": "9a92fc85-ffd8-4b07-cb4b-4eda1705c08e"
      },
      "execution_count": 10,
      "outputs": [
        {
          "output_type": "stream",
          "name": "stdout",
          "text": [
            "Determinant Result:\n",
            " 0.0\n"
          ]
        }
      ]
    },
    {
      "cell_type": "code",
      "source": [
        "# Exercise 5: Finding the Inverse\n",
        "# Create a 3x3 invertible matrix\n",
        "G = np.array([[4, 7, 2], [3, 6, 1], [2, 5, 8]])\n",
        "\n",
        "# Calculate its inverse\n",
        "inverse_result = np.linalg.inv(G)\n",
        "print(\"Inverse Result:\\n\", inverse_result)\n",
        "\n"
      ],
      "metadata": {
        "colab": {
          "base_uri": "https://localhost:8080/"
        },
        "id": "vCzQwiUDHVYr",
        "outputId": "df7a0856-e5e8-43d2-cbc3-86afac0c2f57"
      },
      "execution_count": 11,
      "outputs": [
        {
          "output_type": "stream",
          "name": "stdout",
          "text": [
            "Inverse Result:\n",
            " [[ 1.79166667 -1.91666667 -0.20833333]\n",
            " [-0.91666667  1.16666667  0.08333333]\n",
            " [ 0.125      -0.25        0.125     ]]\n"
          ]
        }
      ]
    },
    {
      "cell_type": "code",
      "source": [
        "# Additional Challenge: Implementing Matrix Multiplication Manually\n",
        "def manual_matrix_multiplication(A, B):\n",
        "    rows_A, cols_A = A.shape\n",
        "    rows_B, cols_B = B.shape\n",
        "\n",
        "    # Ensure matrix dimensions are compatible\n",
        "    if cols_A != rows_B:\n",
        "        raise ValueError(\"Incompatible matrix dimensions for multiplication\")\n",
        "\n",
        "    # Initialize result matrix with zeros\n",
        "    result = np.zeros((rows_A, cols_B))\n",
        "\n",
        "    # Nested loops for matrix multiplication\n",
        "    for i in range(rows_A):\n",
        "        for j in range(cols_B):\n",
        "            for k in range(cols_A):\n",
        "                result[i, j] += A[i, k] * B[k, j]\n",
        "    return result\n",
        "\n",
        "# Example matrices for manual multiplication\n",
        "H = np.array([[1, 2, 3], [4, 5, 6]])\n",
        "I = np.array([[7, 8], [9, 10], [11, 12]])\n",
        "\n",
        "# Perform manual multiplication\n",
        "manual_result = manual_matrix_multiplication(H, I)\n",
        "print(\"Manual Multiplication Result:\\n\", manual_result)\n",
        "\n",
        "# Generating Random Matrices and Performing Operations\n",
        "random_matrix_A = np.random.rand(10, 10)\n",
        "random_matrix_B = np.random.rand(10, 10)\n",
        "\n",
        "# Addition\n",
        "random_addition = random_matrix_A + random_matrix_B\n",
        "print(\"Random Matrix Addition:\\n\", random_addition)\n",
        "\n",
        "# Subtraction\n",
        "random_subtraction = random_matrix_A - random_matrix_B\n",
        "print(\"Random Matrix Subtraction:\\n\", random_subtraction)\n",
        "\n",
        "# Matrix Multiplication\n",
        "random_multiplication = np.dot(random_matrix_A, random_matrix_B)\n",
        "print(\"Random Matrix Multiplication:\\n\", random_multiplication)\n",
        "\n",
        "# Transpose\n",
        "random_transpose_A = random_matrix_A.T\n",
        "print(\"Transpose of Random Matrix A:\\n\", random_transpose_A)\n"
      ],
      "metadata": {
        "colab": {
          "base_uri": "https://localhost:8080/"
        },
        "id": "sazZUkgtHXQL",
        "outputId": "66f4c2be-331c-4633-95db-793d2144edc7"
      },
      "execution_count": 12,
      "outputs": [
        {
          "output_type": "stream",
          "name": "stdout",
          "text": [
            "Manual Multiplication Result:\n",
            " [[ 58.  64.]\n",
            " [139. 154.]]\n",
            "Random Matrix Addition:\n",
            " [[0.55213923 1.07114493 1.15886416 1.44319777 1.53879997 1.89636886\n",
            "  0.31462944 1.63408254 1.59868025 0.76639423]\n",
            " [0.76107231 0.77738156 1.20600408 1.07768645 1.12852973 1.05864992\n",
            "  1.10009994 0.39954425 0.83264738 1.36431705]\n",
            " [0.43672544 0.03990794 0.68156457 0.31911357 1.68260564 0.70255374\n",
            "  1.52980566 0.98128628 0.62688692 0.41173628]\n",
            " [1.15610898 1.07542219 1.15444174 0.82898006 1.22819805 1.30037559\n",
            "  0.84153373 1.55143871 0.82104395 0.69284205]\n",
            " [0.97048011 0.62649962 0.84393775 0.63476193 0.602665   1.06672348\n",
            "  1.2557375  0.70163333 0.64572024 0.95002252]\n",
            " [0.98944181 0.41403195 1.26610926 1.24488088 0.50174333 0.87837163\n",
            "  1.08022195 1.60998679 0.99281777 1.19658635]\n",
            " [0.83840219 0.47085926 1.34225086 0.66924717 1.18816171 1.12001413\n",
            "  1.34407209 1.20867063 1.02105518 0.84402111]\n",
            " [1.12720158 1.69664186 0.81672515 0.35648944 0.57319532 0.79766219\n",
            "  1.21196769 0.93505988 0.8880988  0.28883586]\n",
            " [1.54994555 0.96577874 0.72702507 1.37465089 0.63589401 1.65537943\n",
            "  0.71896666 0.59760779 1.0382627  1.617579  ]\n",
            " [1.82897905 1.14158503 0.62480316 0.70631476 1.31978691 0.67988332\n",
            "  1.05465188 1.50133164 1.0467085  0.63254358]]\n",
            "Random Matrix Subtraction:\n",
            " [[-0.16899532 -0.67423718  0.12856185  0.50318251 -0.04025064 -0.07603734\n",
            "  -0.18410981 -0.30849236 -0.33749503  0.06971057]\n",
            " [-0.03837077 -0.60858081  0.64329176  0.10343725  0.81209885 -0.55321278\n",
            "  -0.7650262   0.18412864 -0.45710424 -0.02429057]\n",
            " [-0.27625214  0.02087646  0.00746222  0.06990498  0.3130566  -0.22310331\n",
            "   0.46354758  0.21928533 -0.08186104 -0.02921718]\n",
            " [-0.83439781  0.52080822  0.73869317  0.78532534  0.51517327  0.33186369\n",
            "   0.80655339  0.39236568 -0.00828975 -0.55466598]\n",
            " [-0.8413278  -0.54557846  0.56585871 -0.2963739   0.41286647 -0.14033116\n",
            "  -0.58861238 -0.19331385  0.32080117  0.37602457]\n",
            " [-0.7090165  -0.09618772  0.61904129  0.25503546 -0.26533659 -0.20921441\n",
            "  -0.52559826 -0.21248144  0.40332634  0.57932429]\n",
            " [-0.76302985 -0.10245451  0.07031718 -0.00277441 -0.45937764 -0.03960158\n",
            "  -0.18074973  0.26887662  0.34148527  0.40674715]\n",
            " [-0.4070336   0.28131359 -0.4522558   0.13490292 -0.0926804  -0.17249843\n",
            "  -0.56435113  0.01493695  0.56080722  0.28492857]\n",
            " [-0.27997798 -0.1815374  -0.36990603  0.38903432 -0.5990891  -0.09314061\n",
            "  -0.53729158 -0.18324509  0.85007572  0.14342923]\n",
            " [-0.13015086  0.16061305 -0.4428918   0.2389211   0.47266986  0.61134256\n",
            "   0.34327818 -0.38306622  0.68930983 -0.61228729]]\n",
            "Random Matrix Multiplication:\n",
            " [[4.34533228 2.30653908 2.00351331 1.59128359 2.23147645 2.99019615\n",
            "  3.19800176 3.1570358  1.59977392 2.18998057]\n",
            " [3.36118836 1.8704107  1.61337466 1.25362305 1.96628913 2.28718654\n",
            "  2.51300298 2.63666982 1.4510124  1.70580595]\n",
            " [3.16023592 1.75486868 1.68903067 1.26328881 1.83022788 2.20371526\n",
            "  2.88030441 2.02124472 1.0294932  1.14568592]\n",
            " [4.8454052  2.83634069 2.5799821  2.0106737  2.86755812 3.9076\n",
            "  4.53357735 3.26245512 2.21233598 2.34897768]\n",
            " [2.86618191 1.4316641  1.53026934 1.14057395 1.76487974 1.82471486\n",
            "  2.29217502 2.17003949 0.9464659  1.44252162]\n",
            " [3.85430409 2.01401625 2.19183428 1.21988156 2.45644492 2.45952718\n",
            "  2.66278431 2.86577957 1.43398437 2.10117729]\n",
            " [3.7279304  1.99812574 2.15018071 1.39891305 2.31380322 2.50021746\n",
            "  3.08329744 2.64239583 1.25656011 1.79591321]\n",
            " [2.88527329 2.27525659 1.76858729 1.53111737 1.78958168 2.73181995\n",
            "  2.81190408 1.98426196 1.59117489 1.95520239]\n",
            " [3.96508224 2.42833219 2.11333508 1.65065988 2.40114229 2.89659147\n",
            "  2.43829023 3.29433387 1.84071335 2.59345051]\n",
            " [4.22220809 3.11327774 2.36392107 2.20176757 2.63931674 3.96108148\n",
            "  3.79893661 3.12716372 2.21877053 2.31927437]]\n",
            "Transpose of Random Matrix A:\n",
            " [[0.19157196 0.36135077 0.08023665 0.16085558 0.06457616 0.14021265\n",
            "  0.03768617 0.36008399 0.63498378 0.84941409]\n",
            " [0.19845387 0.08440037 0.0303922  0.79811521 0.04046058 0.15892211\n",
            "  0.18420237 0.98897772 0.39212067 0.65109904]\n",
            " [0.643713   0.92464792 0.3445134  0.94656745 0.70489823 0.94257528\n",
            "  0.70628402 0.18223467 0.17855952 0.09095568]\n",
            " [0.97319014 0.59056185 0.19450928 0.8071527  0.16919401 0.74995817\n",
            "  0.33323638 0.24569618 0.88184261 0.47261793]\n",
            " [0.74927467 0.97031429 0.99783112 0.87168566 0.50776574 0.11820337\n",
            "  0.36439204 0.24025746 0.01840245 0.89622839]\n",
            " [0.91016576 0.25271857 0.23972522 0.81611964 0.46319616 0.33457861\n",
            "  0.54020628 0.31258188 0.78111941 0.64561294]\n",
            " [0.06525982 0.16753687 0.99667662 0.82404356 0.33356256 0.27731185\n",
            "  0.58166118 0.32380828 0.09083754 0.69896503]\n",
            " [0.66279509 0.29183644 0.60028581 0.9719022  0.25415974 0.69875267\n",
            "  0.73877363 0.47499842 0.20718135 0.55913271]\n",
            " [0.63059261 0.18777157 0.27251294 0.4063771  0.4832607  0.69807206\n",
            "  0.68127022 0.72445301 0.94416921 0.86800916]\n",
            " [0.4180524  0.67001324 0.19125955 0.06908803 0.66302354 0.88795532\n",
            "  0.62538413 0.28688221 0.88050411 0.01012815]]\n"
          ]
        }
      ]
    }
  ]
}